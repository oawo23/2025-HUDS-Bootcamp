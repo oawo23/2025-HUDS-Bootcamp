{
  "nbformat": 4,
  "nbformat_minor": 0,
  "metadata": {
    "colab": {
      "provenance": [],
      "mount_file_id": "1x9z5ARbCwA_2W7c7JXm2ZwiIVgOPM28j",
      "authorship_tag": "ABX9TyOXfLCn+9DGe4U98MzH26Vu",
      "include_colab_link": true
    },
    "kernelspec": {
      "name": "python3",
      "display_name": "Python 3"
    },
    "language_info": {
      "name": "python"
    }
  },
  "cells": [
    {
      "cell_type": "markdown",
      "metadata": {
        "id": "view-in-github",
        "colab_type": "text"
      },
      "source": [
        "<a href=\"https://colab.research.google.com/github/oawo23/2025-HUDS-Bootcamp/blob/main/Final_Project_Stage_2_HUDS_2025.ipynb\" target=\"_parent\"><img src=\"https://colab.research.google.com/assets/colab-badge.svg\" alt=\"Open In Colab\"/></a>"
      ]
    },
    {
      "cell_type": "markdown",
      "source": [
        "## Research Question\n",
        "\n",
        "Which social determinants of health (SDOH) are associated with higher incidence rates of sexually transmitted diseases (STDs) among counties in Texas?\n",
        "\n",
        "**Hypothesis**: Counties in Texas with higher rates of poverty, limited education, or lack of insurance will have higher incidence rates of STDs in 2022."
      ],
      "metadata": {
        "id": "Zk-MxNHR_9la"
      }
    },
    {
      "cell_type": "markdown",
      "source": [
        "## Problem Statement\n",
        "\n",
        "Sexually transmitted diseases remain a persistent public health concern across Texas and disproportionately affect vulnerable populations. Social determinants of health (SDOH) are the conditions in which people are born, grow, live, work, and age, and they play a key role in shaping health outcomes. Factors such as poverty, education level, health insurance coverage, language barriers, and employment influence an individual's ability to access prevention, testing, and treatment services. Counties with lower socioeconomic status or higher rates of uninsured populations may experience higher rates of STD transmission.\n",
        "\n",
        "# Potential Subtopics\n",
        "\n",
        "Education\n",
        "\n",
        "\n",
        "*   How does the percentage of people without a high school diploma correlate with STD rates?\n",
        "\n",
        "\n",
        "Poverty & Employment\n",
        "\n",
        "*   Do higher poverty rates or unemployment correlate with higher STD case counts?\n",
        "\n",
        "Health Insurance\n",
        "\n",
        "*   Are counties with higher rates of uninsured residents reporting more STDs?\n",
        "\n",
        "Language Barriers / Nativity\n",
        "\n",
        "Is speaking a language other than English at home (as a\n",
        "\n",
        "*   Is speaking a language other than English at home (as a\n",
        "proxy for limited English proficiency) associated with STD rates?\n",
        "\n",
        "Geospatial Distribution\n",
        "\n",
        "*   Which regions or counties in Texas have the highest concentration of SDOH risk factors and STD burden?\n",
        "\n"
      ],
      "metadata": {
        "id": "N8EvvoO6A6gB"
      }
    },
    {
      "cell_type": "markdown",
      "source": [
        "## Data Description"
      ],
      "metadata": {
        "id": "Mq5yvZPBBFKl"
      }
    },
    {
      "cell_type": "markdown",
      "source": [
        "## Code"
      ],
      "metadata": {
        "id": "5PyIOgcJBaE6"
      }
    },
    {
      "cell_type": "code",
      "execution_count": 2,
      "metadata": {
        "id": "OdkxdGLG_7NF"
      },
      "outputs": [],
      "source": [
        "# Importing the libraries\n",
        "import numpy as np                  # Scientific Computing\n",
        "import pandas as pd                 # Data Analysis\n",
        "import matplotlib.pyplot as plt     # Plotting\n",
        "import seaborn as sns               # Statistical Data Visualization\n",
        "\n",
        "# pandas returns all the rows and columns for the dataframe\n",
        "pd.set_option('display.max_rows', None)\n",
        "pd.set_option('display.max_columns', None)\n",
        "\n",
        "# Force pandas to display full numbers instead of scientific notation\n",
        "# pd.options.display.float_format = '{:.0f}'.format\n",
        "\n",
        "# Library to suppress warnings\n",
        "import warnings\n",
        "warnings.filterwarnings('ignore')"
      ]
    },
    {
      "cell_type": "code",
      "source": [
        "# Read the datasets\n",
        "atlasp = pd.read_csv('/content/drive/MyDrive/CSV Files for Colab/AtlasPlusTableData (2).csv')\n",
        "\n",
        "# Create Dataframe\n",
        "STITXCounties = pd.DataFrame(atlasp)\n"
      ],
      "metadata": {
        "id": "XNwdrb83HYmE"
      },
      "execution_count": 4,
      "outputs": []
    }
  ]
}